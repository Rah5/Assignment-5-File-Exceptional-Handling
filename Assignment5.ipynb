{
  "nbformat": 4,
  "nbformat_minor": 0,
  "metadata": {
    "colab": {
      "provenance": []
    },
    "kernelspec": {
      "name": "python3",
      "display_name": "Python 3"
    },
    "language_info": {
      "name": "python"
    }
  },
  "cells": [
    {
      "cell_type": "markdown",
      "source": [
        "Question 1 What is the difference between interpreted and compiled languages?\n",
        "-- Compiled Languages:\n",
        "The source code is translated into machine code (binary) before execution using a compiler.\n",
        "The resulting executable file can be run without requiring the source code or compiler.\n",
        "Examples: C, C++, Rust, Go\n",
        "\n",
        "Interpreted Languages:\n",
        "The source code is executed line by line by an interpreter at runtime.\n",
        "No separate compilation step; the interpreter directly runs the code.\n",
        "Examples: Python, JavaScript, PHP, Ruby\n",
        "\n",
        "\n",
        "Question 2 What is exception handling in Python?\n",
        "-- Exception handling in Python is a mechanism that allows you to gracefully handle runtime errors (exceptions) and prevent your program from crashing. It is implemented using the try, except, else, and finally blocks.\n",
        "\n",
        "\n",
        "Question 3  What is the purpose of the finally block in exception handling?\n",
        "-- The finally block in Python always executes, regardless of whether an exception occurs or not. It is typically used for cleanup operations, such as closing files, releasing resources, or resetting variables.\n",
        "\n",
        "Purpose of the finally Block in Exception Handling\n",
        "The finally block in Python always executes, regardless of whether an exception occurs or not. It is typically used for cleanup operations, such as closing files, releasing resources, or resetting variables.\n",
        "\n",
        "Key Features of finally:\n",
        "✔ Ensures that important cleanup code runs no matter what\n",
        "✔ Runs after the try and except blocks\n",
        "✔ Executes even if there is a return statement in try or except\n",
        "\n",
        "\n",
        "Question 4 What is logging in Python?\n",
        "-- Logging in Python is a way to track events that happen during a program's execution. It helps in debugging, monitoring, and understanding how an application is running.\n",
        "\n",
        "\n",
        "Question 5 What is the significance of the __del__ method in Python?\n",
        "-- The __del__ method in Python is a destructor that is automatically called when an object is about to be destroyed (i.e., when it is no longer needed, and memory is being freed).\n",
        "\n",
        "\n",
        "Question 6 What is the difference between import and from ... import in Python?\n",
        "-- ✔ Use import module if you want to avoid name conflicts and make code clearer.\n",
        "✔ Use from module import function if you frequently use a function and want cleaner syntax.\n",
        "\n",
        "\n",
        "Question 7 How can you handle multiple exceptions in Python?\n",
        "--In Python, exceptions are errors that occur during program execution. To ensure a program does not crash unexpectedly, multiple exceptions can be handled using different approaches.\n",
        "Using Multiple except Blocks\n",
        "Each exception is handled separately in its own except block.\n",
        "\n",
        "Useful when you need different handling for different exceptions.\n",
        "Only the first matching except block executes if an exception occurs.\n",
        "\n",
        "Handling Exceptions in Loops\n",
        "If an error occurs in a loop, exception handling ensures the rest of the loop continues executing.\n",
        "\n",
        "\n",
        "Question 8 What is the purpose of the with statement when handling files in Python?\n",
        "-- The with statement is used for efficient and safe file handling in Python. It ensures that the file is automatically closed after the block is executed, even if an error occurs.\n",
        "\n",
        "Automatic Resource Management → No need to manually close the file using file.close().\n",
        "Handles Exceptions Gracefully → Ensures the file is properly closed, even if an error occurs.\n",
        "Cleaner Code → Reduces the risk of resource leaks.\n",
        "\n",
        "\n",
        "Question 9 What is the difference between multithreading and multiprocessing?\n",
        "-- Multithreading :\n",
        "Definition-\tRuns multiple threads within a single process.\n",
        "Parallelism Type-\tConcurrency (switching between tasks)\n",
        "Memory Usage-\tShares memory among threads\n",
        "\n",
        "Multiprocessing :\n",
        "Defination- Runs multiple processes, each with its own memory space.\n",
        "Parallelism type- True parallelism (multiple tasks run simultaneously)\n",
        "Memory usage- Each process has separate memory\n",
        "\n",
        "\n",
        "Question 10 What are the advantages of using logging in a program?\n",
        "-- Key Takeaways\n",
        "✔ Efficient debugging and tracking of program flow.\n",
        "✔ Historical tracking of errors and events.\n",
        "✔ Non-intrusive logging that can be enabled/disabled based on severity.\n",
        "✔ Real-time monitoring and alerting, aiding proactive issue resolution.\n",
        "\n",
        "\n",
        "Question 11 What is memory management in Python?\n",
        "-- Memory management in Python refers to the process of efficiently allocating, tracking, and freeing up memory resources for objects during the execution of a program. Python handles memory management automatically using several mechanisms to ensure that resources are used effectively and that programs run efficiently.\n",
        "\n",
        "\n",
        "Question 12 What are the basic steps involved in exception handling in Python?\n",
        "--Exception handling in Python is a process that allows a program to handle errors gracefully without crashing. The basic steps involve using try, except, else, and finally blocks to catch, handle, and clean up after errors. Here's a breakdown of the basic steps involved:\n",
        "try block: Code that might raise an exception.\n",
        "except block: Catches and handles the exception if one occurs.\n",
        "else block: Runs if no exception occurs.\n",
        "finally block: Always executes, regardless of an exception, often for cleanup.\n",
        "Key Takeaways\n",
        "✔ try is where you write risky code.\n",
        "✔ except catches exceptions and handles them.\n",
        "✔ else executes if no exception occurs.\n",
        "✔ finally ensures cleanup happens, regardless of success or failure.\n",
        "\n",
        "\n",
        "Question 13 Why is memory management important in Python?\n",
        "-- Memory management is crucial in Python for several reasons, as it directly impacts the performance, efficiency, and reliability of your program.\n",
        "Key Takeaways\n",
        "✔ Proper memory management in Python ensures efficient resource usage and prevents memory leaks.\n",
        "✔ It enhances performance, helps in scalability, and prevents out-of-memory errors.\n",
        "✔ Python's automatic garbage collection simplifies memory management, but still requires developers to be mindful of references and memory usage.\n",
        "\n",
        "\n",
        "Question 14 What is the role of try and except in exception handling?\n",
        "--In Python, try and except are the core components used in exception handling to manage errors gracefully, preventing program crashes and ensuring smooth execution even when errors occur.\n",
        "Key Takeaways\n",
        "try is used to attempt the code that might raise an exception.\n",
        "except is used to catch and handle the exception when it occurs.\n",
        "This combination allows the program to continue execution, even when errors occur, and gives you the flexibility to manage various types of errors differently.\n",
        "\n",
        "\n",
        "Question 15 How does Python's garbage collection system work?\n",
        "--Python uses an automatic garbage collection system to manage memory efficiently by freeing up memory that is no longer in use. This helps in preventing memory leaks and ensures that resources are properly released when no longer needed. Python's garbage collection is primarily based on two techniques: reference counting and cyclic garbage collection.\n",
        "\n",
        "\n",
        "Question 16 What is the purpose of the else block in exception handling?\n",
        "--Purpose of the else Block in Exception Handling\n",
        "In Python, the else block in exception handling serves to define code that should be executed only if no exceptions were raised in the associated try block. It helps to separate normal flow from error handling, making the code cleaner and more readable.\n",
        "Key Takeaways:\n",
        "✔ The else block is executed only if no exceptions were raised in the try block.\n",
        "✔ It helps to separate normal flow from exception handling logic.\n",
        "✔ The else block improves code readability and organization.\n",
        "\n",
        "\n",
        "Question 17 What are the common logging levels in Python?\n",
        "-- the logging module provides several logging levels that help categorize the severity of events or messages that are logged. These levels allow you to control the verbosity of the logs and to filter messages based on their importance. The common logging levels, from highest to lowest severity, are:\n",
        "CRITICAL (Level 50)\n",
        "The highest severity level.\n",
        "ERROR (Level 40)\n",
        "Indicates a significant problem that prevents some functionality from working correctly, but does not necessarily stop the entire program.\n",
        "WARNING (Level 30)\n",
        "Used for situations that are not necessarily errors but might lead to future problems or require attention.\n",
        "INFO (Level 20)\n",
        "Provides general information about the program's execution.\n",
        "DEBUG (Level 10)\n",
        "Provides detailed information, typically useful for diagnosing problems during development or troubleshooting.\n",
        "NOTSET (Level 0)\n",
        "This level is used to indicate that no specific level is set, meaning the logger will handle events at all levels.\n",
        "\n",
        "\n",
        "Question 18 What is the difference between os.fork() and multiprocessing in Python?\n",
        "-- os.fork() is low-level, Unix-specific, and creates a child process as a clone of the parent, with manual management of synchronization and communication.\n",
        "multiprocessing is high-level, platform-independent, and provides powerful abstractions for process creation, communication, and synchronization, making it ideal for parallel computing.\n",
        "\n",
        "\n",
        "Question 19 What is the importance of closing a file in Python?\n",
        "-- when you open a file using the open() function, it creates a file object that you can read from or write to. Closing a file after you are done with it is crucial for several reasons:\n",
        "Release System Resources\n",
        "File handles are system resources that are limited. If you don’t close a file after opening it, the operating system may run out of file handles, potentially leading to errors when attempting to open new files.\n",
        "Ensure Data is Written to the Disk\n",
        "When you open a file in write or append mode, the data is not immediately written to the file. Instead, it is temporarily stored in a memory buffer.\n",
        "Prevent File Corruption\n",
        "If a file is left open while the program ends or crashes, it may result in incomplete or corrupted data being written to the file.\n",
        "\n",
        "\n",
        "Question 20 What is the difference between file.read() and file.readline() in Python?\n",
        "-- Both file.read() and file.readline() are methods used to read data from a file in Python, but they behave differently when it comes to how they read and return data.\n",
        "file.read() is suitable for reading small files where you need all the content at once.\n",
        "file.readline() is better for reading large files line-by-line without consuming too much memory.\n",
        "\n",
        "\n",
        "Question 21  What is the logging module in Python used for?\n",
        "-- The logging module in Python is essential for tracking and recording program events, errors, and behaviors.\n",
        "It provides flexible logging levels, destinations, and formats for handling various logging needs.\n",
        "It's preferable over print() statements for long-term monitoring and debugging, especially in production systems.\n",
        "\n",
        "\n",
        "Question 22 What is the os module in Python used for in file handling?\n",
        "-- The os module provides a wide range of functions for file and directory management.\n",
        "It allows for cross-platform compatibility in file paths and other file operations.\n",
        "It is a crucial tool for managing system resources, such as file permissions and file paths, and for performing low-level operations.\n",
        "\n",
        "\n",
        "Question 23  What are the challenges associated with memory management in Python?\n",
        "-- Memory management in Python is automatic but comes with challenges, including high memory consumption, circular references, garbage collection overhead, and fragmentation.\n",
        "Developers need to be aware of these challenges to optimize memory usage, especially for large-scale applications or long-running programs.\n",
        "Using efficient data structures, avoiding circular references, and leveraging profiling tools are some of the best practices to manage memory effectively in Python.\n",
        "\n",
        "\n",
        "Question 24 How do you raise an exception manually in Python?\n",
        "-- example : raise Exception(\"Something went wrong!\")\n",
        "This will raise a generic exception with the message \"Something went wrong!\".\n",
        "\n",
        "\n",
        "Question 25  Why is it important to use multithreading in certain applications?\n",
        "-- Using multithreading in certain applications is important for several reasons, especially when it comes to improving performance, responsiveness, and resource utilization. Here’s why multithreading can be crucial in specific scenarios:\n",
        "-Real-Time Processing\n",
        "-Simplified program structure\n",
        "-Imroved Performance through Concorrent Execution.\n",
        "\n",
        "\n"
      ],
      "metadata": {
        "id": "-bWJwywszI3c"
      }
    },
    {
      "cell_type": "code",
      "source": [
        "# Question. 1  How can you open a file for writing in Python and write a string to it?\n",
        "\n",
        "with open(\"my_file.txt\", \"w\") as file:\n",
        "    file.write(\"This is my string and this string will be use in the other programme also.\")\n"
      ],
      "metadata": {
        "id": "aOxPIuLk-wfK"
      },
      "execution_count": 5,
      "outputs": []
    },
    {
      "cell_type": "code",
      "source": [
        "# Question. 2  Write a Python program to read the contents of a file and print each line.\n",
        "\n",
        "with open(\"my_file.txt\", \"r\") as file:\n",
        "    for line in file:\n",
        "        print(line)"
      ],
      "metadata": {
        "colab": {
          "base_uri": "https://localhost:8080/"
        },
        "id": "AmRw9c8E_WNJ",
        "outputId": "4058aef6-79e4-4b1c-dde9-4e4ad6397f74"
      },
      "execution_count": 6,
      "outputs": [
        {
          "output_type": "stream",
          "name": "stdout",
          "text": [
            "This is my string and this string will be use in the other programme also.\n"
          ]
        }
      ]
    },
    {
      "cell_type": "code",
      "source": [
        "# Question. 3  How would you handle a case where the file doesn't exist while trying to open it for reading?\n",
        "\n",
        "try:\n",
        "    with open(\"example.txt\", \"r\") as file:\n",
        "        content = file.read()\n",
        "        print(content)\n",
        "except FileNotFoundError:\n",
        "    print(\"Error: The file does not exist. Please check the file path.\")\n"
      ],
      "metadata": {
        "colab": {
          "base_uri": "https://localhost:8080/"
        },
        "id": "NwC88me__hLg",
        "outputId": "46796d27-6571-4815-afdb-97a7a57b0efe"
      },
      "execution_count": 49,
      "outputs": [
        {
          "output_type": "stream",
          "name": "stdout",
          "text": [
            " \n"
          ]
        }
      ]
    },
    {
      "cell_type": "code",
      "source": [
        "# Question. 4  Write a Python script that reads from one file and writes its content to another file.\n",
        "\n",
        "with open(\"my_file.txt\", \"r\") as read_file:\n",
        "    content = read_file.read()\n",
        "\n",
        "with open(\"new_file.txt\", \"w\") as write_file:\n",
        "    write_file.write(content)"
      ],
      "metadata": {
        "id": "9EwGrQmLAdQ9"
      },
      "execution_count": 8,
      "outputs": []
    },
    {
      "cell_type": "code",
      "source": [
        "with open(\"new_file.txt\", \"w\") as write_file:\n",
        "    print(content)"
      ],
      "metadata": {
        "colab": {
          "base_uri": "https://localhost:8080/"
        },
        "id": "cJVjsM3LAupQ",
        "outputId": "e29c6130-53ee-4915-d630-ee047c085791"
      },
      "execution_count": 9,
      "outputs": [
        {
          "output_type": "stream",
          "name": "stdout",
          "text": [
            "This is my string and this string will be use in the other programme also.\n"
          ]
        }
      ]
    },
    {
      "cell_type": "code",
      "source": [
        "# Question. 5  How would you catch and handle division by zero error in Python?\n",
        "\n",
        "try:\n",
        "    result = 10 / 0\n",
        "except ZeroDivisionError:\n",
        "    print(\"Error: Division by zero is not allowed.\")"
      ],
      "metadata": {
        "colab": {
          "base_uri": "https://localhost:8080/"
        },
        "id": "od5gpgzgA6QO",
        "outputId": "1ce86c0c-0caa-40dd-a132-0921924182d4"
      },
      "execution_count": 10,
      "outputs": [
        {
          "output_type": "stream",
          "name": "stdout",
          "text": [
            "Error: Division by zero is not allowed.\n"
          ]
        }
      ]
    },
    {
      "cell_type": "code",
      "source": [
        "# Question. 6  Write a Python program that logs an error message to a log file when a division by zero exception occurs.\n",
        "\n",
        "import logging\n",
        "\n",
        "\n",
        "logging.basicConfig(filename=\"error.log\", level=logging.ERROR,\n",
        "                    format=\"%(asctime)s - %(levelname)s - %(message)s\")\n",
        "\n",
        "def divide_numbers(a, b):\n",
        "    try:\n",
        "        result = a / b\n",
        "        print(f\"Result: {result}\")\n",
        "    except ZeroDivisionError:\n",
        "        logging.error(\"Attempted to divide by zero.\")\n",
        "        print(\"Error: Cannot divide by zero. Check the log file for details.\")\n",
        "\n",
        "\n",
        "num1 = 10\n",
        "num2 = 0\n",
        "\n",
        "divide_numbers(num1, num2)\n"
      ],
      "metadata": {
        "colab": {
          "base_uri": "https://localhost:8080/"
        },
        "id": "n3wn8WfLBEp8",
        "outputId": "bb1f8a9e-eea9-4cb8-a094-fd325cda9f98"
      },
      "execution_count": 11,
      "outputs": [
        {
          "output_type": "stream",
          "name": "stderr",
          "text": [
            "ERROR:root:Attempted to divide by zero.\n"
          ]
        },
        {
          "output_type": "stream",
          "name": "stdout",
          "text": [
            "Error: Cannot divide by zero. Check the log file for details.\n"
          ]
        }
      ]
    },
    {
      "cell_type": "code",
      "source": [
        "# Question. 7  How do you log information at different levels (INFO, ERROR, WARNING) in Python using the logging module?\n",
        "\n",
        "import logging\n",
        "\n",
        "\n",
        "logging.basicConfig(\n",
        "    filename=\"app.log\",\n",
        "    level=logging.DEBUG,\n",
        "    format=\"%(asctime)s - %(levelname)s - %(message)s\"\n",
        ")\n",
        "\n",
        "\n",
        "logging.debug(\"This is a DEBUG message - Useful for debugging.\")\n",
        "logging.info(\"This is an INFO message - General information.\")\n",
        "logging.warning(\"This is a WARNING message - Something unexpected happened.\")\n",
        "logging.error(\"This is an ERROR message - An error occurred.\")\n",
        "logging.critical(\"This is a CRITICAL message - Serious error, may cause failure.\")\n"
      ],
      "metadata": {
        "colab": {
          "base_uri": "https://localhost:8080/"
        },
        "id": "21Sr20LLBn1u",
        "outputId": "5028d39f-25e0-4e94-8a04-510de4d7d5d0"
      },
      "execution_count": 12,
      "outputs": [
        {
          "output_type": "stream",
          "name": "stderr",
          "text": [
            "WARNING:root:This is a WARNING message - Something unexpected happened.\n",
            "ERROR:root:This is an ERROR message - An error occurred.\n",
            "CRITICAL:root:This is a CRITICAL message - Serious error, may cause failure.\n"
          ]
        }
      ]
    },
    {
      "cell_type": "code",
      "source": [
        "# Question. 8  Write a program to handle a file opening error using exception handling.\n",
        "\n",
        "try:\n",
        "\n",
        "    with open(\"non_existent_file.txt\", \"r\") as file:\n",
        "        content = file.read()\n",
        "        print(content)\n",
        "except FileNotFoundError:\n",
        "    print(\"Error: The file does not exist. Please check the file name or path.\")\n",
        "except PermissionError:\n",
        "    print(\"Error: You do not have permission to access this file.\")\n",
        "except Exception as e:\n",
        "    print(f\"An unexpected error occurred: {e}\")\n"
      ],
      "metadata": {
        "colab": {
          "base_uri": "https://localhost:8080/"
        },
        "id": "fxcHQx6uClwT",
        "outputId": "cf4456b4-4dee-439c-ffa1-2aac66c608d2"
      },
      "execution_count": 13,
      "outputs": [
        {
          "output_type": "stream",
          "name": "stdout",
          "text": [
            "Error: The file does not exist. Please check the file name or path.\n"
          ]
        }
      ]
    },
    {
      "cell_type": "code",
      "source": [
        "# Question. 9  How can you read a file line by line and store its content in a list in Python?\n",
        "\n",
        "\n",
        "with open(\"my_file.txt\", \"r\") as file:\n",
        "    lines = file.readlines()\n",
        "\n",
        "\n",
        "print(lines)\n",
        "\n",
        "\n"
      ],
      "metadata": {
        "colab": {
          "base_uri": "https://localhost:8080/"
        },
        "id": "NSDOeQH-C7CP",
        "outputId": "a694b1fd-1127-4e94-fb44-d37e2093924a"
      },
      "execution_count": 16,
      "outputs": [
        {
          "output_type": "stream",
          "name": "stdout",
          "text": [
            "['This is my string and this string will be use in the other programme also.']\n"
          ]
        }
      ]
    },
    {
      "cell_type": "code",
      "source": [
        "# Question. 10  How can you append data to an existing file in Python?\n",
        "\n",
        "\n",
        "with open(\"my_file.txt\", \"a\") as file:\n",
        "    file.write(\"\\nAppending a new line to the file.\")\n",
        ""
      ],
      "metadata": {
        "id": "3v67sfhEDxCV"
      },
      "execution_count": 17,
      "outputs": []
    },
    {
      "cell_type": "code",
      "source": [
        "# Question. 11  Write a Python program that uses a try-except block to handle an error when attempting to access a dictionary key that doesn't exist.\n",
        "\n",
        "# Sample dictionary\n",
        "student_scores = {\"Alice\": 85, \"Bob\": 90, \"Charlie\": 78}\n",
        "\n",
        "try:\n",
        "    # Attempt to access a key that may not exist\n",
        "    score = student_scores[\"David\"]\n",
        "    print(f\"David's Score: {score}\")\n",
        "except KeyError:\n",
        "    print(\"Error: The key does not exist in the dictionary.\")\n"
      ],
      "metadata": {
        "colab": {
          "base_uri": "https://localhost:8080/"
        },
        "id": "XE7vlBApGicb",
        "outputId": "af6e9d97-6f88-4a8b-f80e-171ff212a140"
      },
      "execution_count": 18,
      "outputs": [
        {
          "output_type": "stream",
          "name": "stdout",
          "text": [
            "Error: The key does not exist in the dictionary.\n"
          ]
        }
      ]
    },
    {
      "cell_type": "code",
      "source": [
        "# Question. 12  Write a program that demonstrates using multiple except blocks to handle different types of exceptions.\n",
        "\n",
        "try:\n",
        "\n",
        "    num1 = int(input(\"Enter the first number: \"))\n",
        "    num2 = int(input(\"Enter the second number: \"))\n",
        "    result = num1 / num2\n",
        "    print(f\"Result: {result}\")\n",
        "\n",
        "\n",
        "    student_scores = {\"Alice\": 85, \"Bob\": 90}\n",
        "    print(f\"Alice's Score: {student_scores['Alice']}\")\n",
        "    print(f\"David's Score: {student_scores['David']}\")\n",
        "\n",
        "except ZeroDivisionError:\n",
        "    print(\"Error: Division by zero is not allowed.\")\n",
        "\n",
        "except ValueError:\n",
        "    print(\"Error: Invalid input. Please enter numeric values.\")\n",
        "\n",
        "except KeyError:\n",
        "    print(\"Error: The key does not exist in the dictionary.\")\n",
        "\n",
        "except Exception as e:\n",
        "    print(f\"An unexpected error occurred: {e}\")\n"
      ],
      "metadata": {
        "colab": {
          "base_uri": "https://localhost:8080/"
        },
        "id": "-ytu3-xZGxkR",
        "outputId": "aaa596ce-e708-4e17-9caa-7a20a73f781a"
      },
      "execution_count": 19,
      "outputs": [
        {
          "output_type": "stream",
          "name": "stdout",
          "text": [
            "Enter the first number: 10\n",
            "Enter the second number: 53\n",
            "Result: 0.18867924528301888\n",
            "Alice's Score: 85\n",
            "Error: The key does not exist in the dictionary.\n"
          ]
        }
      ]
    },
    {
      "cell_type": "code",
      "source": [
        "# Question. 13  How would you check if a file exists before attempting to read it in Python?\n",
        "\n",
        "import os\n",
        "\n",
        "file_path = \"example.txt\"\n",
        "\n",
        "if os.path.exists(file_path):\n",
        "    with open(file_path, \"r\") as file:\n",
        "        content = file.read()\n",
        "        print(content)\n",
        "else:\n",
        "    print(\"Error: The file does not exist.\")\n"
      ],
      "metadata": {
        "colab": {
          "base_uri": "https://localhost:8080/"
        },
        "id": "N8iRwpMhG4sG",
        "outputId": "3dc37646-6619-45ee-e7b4-12895c79ddb1"
      },
      "execution_count": 20,
      "outputs": [
        {
          "output_type": "stream",
          "name": "stdout",
          "text": [
            "Error: The file does not exist.\n"
          ]
        }
      ]
    },
    {
      "cell_type": "code",
      "source": [
        "# Question. 14  Write a program that uses the logging module to log both informational and error messages.\n",
        "\n",
        "import logging\n",
        "\n",
        "\n",
        "logging.basicConfig(\n",
        "    filename=\"app.log\",\n",
        "    level=logging.DEBUG,\n",
        "    format=\"%(asctime)s - %(levelname)s - %(message)s\",\n",
        "    datefmt=\"%Y-%m-%d %H:%M:%S\"\n",
        ")\n",
        "\n",
        "\n",
        "logging.info(\"Program started successfully.\")\n",
        "\n",
        "try:\n",
        "\n",
        "    num1 = int(input(\"Enter the first number: \"))\n",
        "    num2 = int(input(\"Enter the second number: \"))\n",
        "    result = num1 / num2\n",
        "    logging.info(f\"Division successful: {num1} / {num2} = {result}\")\n",
        "    print(f\"Result: {result}\")\n",
        "\n",
        "except ZeroDivisionError:\n",
        "    logging.error(\"Error: Division by zero attempted.\")\n",
        "    print(\"Error: Division by zero is not allowed.\")\n",
        "\n",
        "except ValueError:\n",
        "    logging.error(\"Error: Invalid input (non-numeric value entered).\")\n",
        "    print(\"Error: Please enter valid numbers.\")\n",
        "\n",
        "except Exception as e:\n",
        "    logging.error(f\"Unexpected error occurred: {e}\")\n",
        "    print(f\"An unexpected error occurred: {e}\")\n",
        "\n",
        "\n",
        "logging.info(\"Program execution completed.\")\n"
      ],
      "metadata": {
        "colab": {
          "base_uri": "https://localhost:8080/"
        },
        "id": "65rBfdBLHDpM",
        "outputId": "6c969d90-fe52-44b7-b41f-c51a7ca7031e"
      },
      "execution_count": 21,
      "outputs": [
        {
          "output_type": "stream",
          "name": "stdout",
          "text": [
            "Enter the first number: 56\n",
            "Enter the second number: 51\n",
            "Result: 1.0980392156862746\n"
          ]
        }
      ]
    },
    {
      "cell_type": "code",
      "source": [
        "# Question. 15 Write a Python program that prints the content of a file and handles the case when the file is empty.\n",
        "\n",
        "def print_file_content(filenew):\n",
        "    try:\n",
        "        with open(filenew, \"r\") as file:\n",
        "            content = file.read()\n",
        "            if not content:\n",
        "                print(\"The file is empty.\")\n",
        "            else:\n",
        "                print(\"File Content:\")\n",
        "                print(content)\n",
        "    except FileNotFoundError:\n",
        "        print(f\"Error: The file '{filenew}' does not exist.\")\n",
        "    except Exception as e:\n",
        "        print(f\"An unexpected error occurred: {e}\")\n",
        "\n",
        "\n",
        "file_path = \"filenew.txt\"\n",
        "with open(file_path, \"w\") as file:\n",
        "    file.write(\"\")\n",
        "\n",
        "\n",
        "print_file_content(file_path)\n"
      ],
      "metadata": {
        "colab": {
          "base_uri": "https://localhost:8080/"
        },
        "id": "xJrQmFaeIl0r",
        "outputId": "00743593-ff7e-4189-bae9-635c277e765a"
      },
      "execution_count": 32,
      "outputs": [
        {
          "output_type": "stream",
          "name": "stdout",
          "text": [
            "The file is empty.\n"
          ]
        }
      ]
    },
    {
      "cell_type": "code",
      "source": [
        "# Question. 16 Demonstrate how to use memory profiling to check the memory usage of a small program.\n",
        "\n",
        "from memory_profiler import profile\n",
        "\n",
        "@profile\n",
        "def my_function():\n",
        "    a = [1] * (10**6)  # Allocate a list with 1 million elements\n",
        "    b = [2] * (2 * 10**7)  # Allocate a larger list with 20 million elements\n",
        "    del b  # Delete the larger list\n",
        "    return a\n",
        "\n",
        "if __name__ == \"__main__\":\n",
        "    my_function()\n"
      ],
      "metadata": {
        "colab": {
          "base_uri": "https://localhost:8080/",
          "height": 383
        },
        "id": "64Fbc7qSJY_v",
        "outputId": "ce054428-d24d-4b3e-d1f0-c3350d5d9eb8"
      },
      "execution_count": 39,
      "outputs": [
        {
          "output_type": "error",
          "ename": "ModuleNotFoundError",
          "evalue": "No module named 'memory_profiler'",
          "traceback": [
            "\u001b[0;31m---------------------------------------------------------------------------\u001b[0m",
            "\u001b[0;31mModuleNotFoundError\u001b[0m                       Traceback (most recent call last)",
            "\u001b[0;32m<ipython-input-39-e72029e84d83>\u001b[0m in \u001b[0;36m<cell line: 0>\u001b[0;34m()\u001b[0m\n\u001b[1;32m      1\u001b[0m \u001b[0;31m# Question. 16 Demonstrate how to use memory profiling to check the memory usage of a small program.\u001b[0m\u001b[0;34m\u001b[0m\u001b[0;34m\u001b[0m\u001b[0m\n\u001b[1;32m      2\u001b[0m \u001b[0;34m\u001b[0m\u001b[0m\n\u001b[0;32m----> 3\u001b[0;31m \u001b[0;32mfrom\u001b[0m \u001b[0mmemory_profiler\u001b[0m \u001b[0;32mimport\u001b[0m \u001b[0mprofile\u001b[0m\u001b[0;34m\u001b[0m\u001b[0;34m\u001b[0m\u001b[0m\n\u001b[0m\u001b[1;32m      4\u001b[0m \u001b[0;34m\u001b[0m\u001b[0m\n\u001b[1;32m      5\u001b[0m \u001b[0;34m@\u001b[0m\u001b[0mprofile\u001b[0m\u001b[0;34m\u001b[0m\u001b[0;34m\u001b[0m\u001b[0m\n",
            "\u001b[0;31mModuleNotFoundError\u001b[0m: No module named 'memory_profiler'",
            "",
            "\u001b[0;31m---------------------------------------------------------------------------\u001b[0;32m\nNOTE: If your import is failing due to a missing package, you can\nmanually install dependencies using either !pip or !apt.\n\nTo view examples of installing some common dependencies, click the\n\"Open Examples\" button below.\n\u001b[0;31m---------------------------------------------------------------------------\u001b[0m\n"
          ],
          "errorDetails": {
            "actions": [
              {
                "action": "open_url",
                "actionText": "Open Examples",
                "url": "/notebooks/snippets/importing_libraries.ipynb"
              }
            ]
          }
        }
      ]
    },
    {
      "cell_type": "code",
      "source": [
        "# Question. 17 Write a Python program to create and write a list of numbers to a file, one number per line.\n",
        "\n",
        "def write_numbers_to_file(file_path, numbers):\n",
        "    try:\n",
        "        with open(file_path, \"w\") as file:\n",
        "            for number in numbers:\n",
        "                file.write(f\"{number}\\n\")\n",
        "        print(f\"Numbers have been successfully written to {file_path}\")\n",
        "    except Exception as e:\n",
        "        print(f\"An error occurred: {e}\")\n",
        "\n",
        "\n",
        "file_path = \"numbers.txt\"\n",
        "numbers = [1, 2, 3, 4, 5, 6, 7, 8, 9, 10]\n",
        "write_numbers_to_file(file_path, numbers)\n"
      ],
      "metadata": {
        "colab": {
          "base_uri": "https://localhost:8080/"
        },
        "id": "xsS-RIR_KbEt",
        "outputId": "e92ed493-1ba6-4955-ecc5-0344f47d6e73"
      },
      "execution_count": 38,
      "outputs": [
        {
          "output_type": "stream",
          "name": "stdout",
          "text": [
            "Numbers have been successfully written to numbers.txt\n"
          ]
        }
      ]
    },
    {
      "cell_type": "code",
      "source": [
        "# Question. 18  How would you implement a basic logging setup that logs to a file with rotation after 1MB?\n",
        "\n",
        "import logging\n",
        "from logging.handlers import RotatingFileHandler\n",
        "\n",
        "\n",
        "logger = logging.getLogger(\"my_logger\")\n",
        "logger.setLevel(logging.DEBUG)\n",
        "\n",
        "\n",
        "log_file = \"app.log\"\n",
        "handler = RotatingFileHandler(log_file, maxBytes=1e6, backupCount=3)\n",
        "handler.setLevel(logging.DEBUG)\n",
        "\n",
        "\n",
        "formatter = logging.Formatter('%(asctime)s - %(levelname)s - %(message)s')\n",
        "handler.setFormatter(formatter)\n",
        "\n",
        "\n",
        "logger.addHandler(handler)\n",
        "\n",
        "\n",
        "logger.debug(\"This is a debug message.\")\n",
        "logger.info(\"This is an info message.\")\n",
        "logger.warning(\"This is a warning message.\")\n",
        "logger.error(\"This is an error message.\")\n",
        "logger.critical(\"This is a critical message.\")\n"
      ],
      "metadata": {
        "colab": {
          "base_uri": "https://localhost:8080/"
        },
        "id": "woA1fxQRKdkC",
        "outputId": "ea85e73d-e5fd-474e-b372-bf052ca2d86f"
      },
      "execution_count": 40,
      "outputs": [
        {
          "output_type": "stream",
          "name": "stderr",
          "text": [
            "DEBUG:my_logger:This is a debug message.\n",
            "INFO:my_logger:This is an info message.\n",
            "WARNING:my_logger:This is a warning message.\n",
            "ERROR:my_logger:This is an error message.\n",
            "CRITICAL:my_logger:This is a critical message.\n"
          ]
        }
      ]
    },
    {
      "cell_type": "code",
      "source": [
        "# Question. 19 Write a program that handles both IndexError and KeyError using a try-except block.\n",
        "\n",
        "def handle_errors():\n",
        "\n",
        "    try:\n",
        "        my_list = [10, 20, 30]\n",
        "        print(my_list[5])\n",
        "    except IndexError:\n",
        "        print(\"IndexError: List index is out of range.\")\n",
        "\n",
        "\n",
        "    try:\n",
        "        my_dict = {\"name\": \"Alice\", \"age\": 25}\n",
        "        print(my_dict[\"address\"])\n",
        "    except KeyError:\n",
        "        print(\"KeyError: Key not found in dictionary.\")\n",
        "\n",
        "\n",
        "handle_errors()\n"
      ],
      "metadata": {
        "colab": {
          "base_uri": "https://localhost:8080/"
        },
        "id": "rBh72-ELKgU6",
        "outputId": "8d57858c-3582-4c2b-e901-25a40dabaf12"
      },
      "execution_count": 42,
      "outputs": [
        {
          "output_type": "stream",
          "name": "stdout",
          "text": [
            "IndexError: List index is out of range.\n",
            "KeyError: Key not found in dictionary.\n"
          ]
        }
      ]
    },
    {
      "cell_type": "code",
      "source": [
        "# Question. 20 How would you open a file and read its contents using a context manager in Python?\n",
        "\n",
        "def read_file_content(file_path):\n",
        "    try:\n",
        "        with open(file_path, \"r\") as file:\n",
        "            content = file.read()\n",
        "            print(content)\n",
        "    except FileNotFoundError:\n",
        "        print(f\"Error: The file '{file_path}' does not exist.\")\n",
        "    except Exception as e:\n",
        "        print(f\"An unexpected error occurred: {e}\")\n",
        "\n",
        "\n",
        "file_path = \"example.txt\"\n",
        "read_file_content(file_path)\n"
      ],
      "metadata": {
        "colab": {
          "base_uri": "https://localhost:8080/"
        },
        "id": "mXoqD1YgKimh",
        "outputId": "e4eac303-0e10-43be-e7f4-4f26ecb15cc6"
      },
      "execution_count": 44,
      "outputs": [
        {
          "output_type": "stream",
          "name": "stdout",
          "text": [
            " \n"
          ]
        }
      ]
    },
    {
      "cell_type": "code",
      "source": [
        "# Question. 21 Write a Python program that reads a file and prints the number of occurrences of a specific word.\n",
        "\n",
        "def count_word_occurrences(file_path, word):\n",
        "    try:\n",
        "        with open(file_path, \"r\") as file:  # Open file in read mode\n",
        "            content = file.read()  # Read the entire file content\n",
        "            word_count = content.lower().split().count(word.lower())  # Count occurrences of word (case-insensitive)\n",
        "            print(f\"The word '{word}' appears {word_count} times in the file.\")\n",
        "    except FileNotFoundError:\n",
        "        print(f\"Error: The file '{file_path}' does not exist.\")\n",
        "    except Exception as e:\n",
        "        print(f\"An unexpected error occurred: {e}\")\n",
        "\n",
        "# Example usage\n",
        "file_path = \"example.txt\"  # Replace with your file path\n",
        "word_to_search = \"python\"   # Replace with the word you want to count\n",
        "count_word_occurrences(file_path, word_to_search)\n"
      ],
      "metadata": {
        "colab": {
          "base_uri": "https://localhost:8080/"
        },
        "id": "wMe-XkmRKk0x",
        "outputId": "92b4d296-5698-48ce-d254-28d2ad147406"
      },
      "execution_count": 45,
      "outputs": [
        {
          "output_type": "stream",
          "name": "stdout",
          "text": [
            "The word 'python' appears 0 times in the file.\n"
          ]
        }
      ]
    },
    {
      "cell_type": "code",
      "source": [
        "# Question. 22 How can you check if a file is empty before attempting to read its contents?\n",
        "\n",
        "import os\n",
        "\n",
        "def check_if_file_is_empty(file_path):\n",
        "    if os.path.getsize(file_path) == 0:  # File size is 0 bytes\n",
        "        print(f\"The file '{file_path}' is empty.\")\n",
        "    else:\n",
        "        with open(file_path, \"r\") as file:\n",
        "            content = file.read()\n",
        "            print(\"File Content:\")\n",
        "            print(content)\n",
        "\n",
        "# Example usage\n",
        "file_path = \"example.txt\"  # Replace with your file path\n",
        "check_if_file_is_empty(file_path)\n"
      ],
      "metadata": {
        "colab": {
          "base_uri": "https://localhost:8080/"
        },
        "id": "fqY3DapWOMcI",
        "outputId": "829dcd6a-386f-4333-ed72-b2ac6ef2a382"
      },
      "execution_count": 46,
      "outputs": [
        {
          "output_type": "stream",
          "name": "stdout",
          "text": [
            "File Content:\n",
            " \n"
          ]
        }
      ]
    },
    {
      "cell_type": "code",
      "source": [
        "# Question. 23  Write a Python program that writes to a log file when an error occurs during file handling.\n",
        "\n",
        "import logging\n",
        "\n",
        "# Set up logging to log errors to a file\n",
        "logging.basicConfig(\n",
        "    filename=\"file_handling_errors.log\",  # Log file name\n",
        "    level=logging.ERROR,                  # Log only errors (and above)\n",
        "    format='%(asctime)s - %(levelname)s - %(message)s'  # Log format with timestamp\n",
        ")\n",
        "\n",
        "def handle_file_operations(file_path):\n",
        "    try:\n",
        "        with open(file_path, \"r\") as file:\n",
        "            content = file.read()\n",
        "            print(\"File Content:\")\n",
        "            print(content)\n",
        "    except FileNotFoundError:\n",
        "        error_message = f\"File '{file_path}' not found.\"\n",
        "        logging.error(error_message)  # Log the error to the file\n",
        "        print(error_message)  # Display the error message\n",
        "    except IOError as e:\n",
        "        error_message = f\"IOError occurred while handling the file '{file_path}': {e}\"\n",
        "        logging.error(error_message)  # Log the error to the file\n",
        "        print(error_message)  # Display the error message\n",
        "    except Exception as e:\n",
        "        error_message = f\"An unexpected error occurred: {e}\"\n",
        "        logging.error(error_message)  # Log the error to the file\n",
        "        print(error_message)  # Display the error message\n",
        "\n",
        "# Example usage\n",
        "file_path = \"example.txt\"  # Replace with your file path\n",
        "handle_file_operations(file_path)\n"
      ],
      "metadata": {
        "colab": {
          "base_uri": "https://localhost:8080/"
        },
        "id": "Nz6mmKdbOSdm",
        "outputId": "4c1fbee0-c19b-42c5-dcac-117c03259185"
      },
      "execution_count": 47,
      "outputs": [
        {
          "output_type": "stream",
          "name": "stdout",
          "text": [
            "File Content:\n",
            " \n"
          ]
        }
      ]
    }
  ]
}